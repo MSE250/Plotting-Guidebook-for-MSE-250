{
 "cells": [
  {
   "cell_type": "markdown",
   "id": "ccc8d890-c902-4ef7-9551-8b47ff86ea0b",
   "metadata": {},
   "source": [
    "# A crashcourse in Python"
   ]
  },
  {
   "cell_type": "markdown",
   "id": "286b4c9e-8ff6-4935-9bc9-a9ec54c3530b",
   "metadata": {},
   "source": [
    "This notebook first walks you through the most important [variable types](#Variable-types) of Python.\n",
    "This is followed by a collection of the most frequently encountered code logic for [looping and branching](#Looping-and-branching).\n",
    "Finally, how to define and use [functions](#Functions) and [objects](#Objects) is explained with some illustrative examples.\n",
    "\n",
    "The much more comprehensive course \"[Python 101](https://python101.pythonlibrary.org/index.html)\" is suggested for the interested reader and as an overall reference."
   ]
  },
  {
   "cell_type": "markdown",
   "id": "55b6042a-2f67-42bc-aeca-bb22eefe5867",
   "metadata": {},
   "source": [
    "---\n",
    "## Variable types"
   ]
  },
  {
   "cell_type": "markdown",
   "id": "77b7636c-0bea-4d5e-8df7-cd098f90c548",
   "metadata": {
    "jp-MarkdownHeadingCollapsed": true
   },
   "source": [
    "### Scalar\n",
    "\n",
    "Examples of scalar data types are strings, floating point numbers, or integers."
   ]
  },
  {
   "cell_type": "code",
   "execution_count": null,
   "id": "e8166763-c7f4-40cd-870a-29c4e4d4c696",
   "metadata": {},
   "outputs": [],
   "source": [
    "message = 'hello, I am a string'\n",
    "f = 1.345e2\n",
    "i = 33\n",
    "\n",
    "print(f'The variable \"message\" contains \"{message}\"')\n",
    "print(f'The variable \"f\" contains {f}')  # these are all \"format\" strings\n",
    "print(f'The variable \"i\" contains {i}')  # that interpret each {expression} within!\n",
    "\n",
    "print(f\"\"\"\n",
    "The three variables contain\n",
    "{message} and\n",
    "{f} and\n",
    "{i}.\"\"\")  # this is a multiline \"\"\"format string\"\"\""
   ]
  },
  {
   "cell_type": "markdown",
   "id": "0ede6727-983b-4ce0-9c86-034cc2f3c3d9",
   "metadata": {
    "jp-MarkdownHeadingCollapsed": true
   },
   "source": [
    "### List\n",
    "\n",
    "A list is a chain of items.\n",
    "\n",
    "`theList = [itemA, itemB, ...]`\n",
    "\n",
    "Items in a list do not have to be of the same type.\n",
    "For instance, a list can hold combinations of strings, numbers, references to functions, etc.\n",
    "\n",
    "Item(s) are accessed by their index.\n",
    "Note that indices in Python are zero-based, i.e. the first list item has index \"0\".\n",
    "Moreover, ranges from a to b (or slices a:b) are exclusive of b, i.e. do _not_ contain b."
   ]
  },
  {
   "cell_type": "code",
   "execution_count": null,
   "id": "57dc4b45-ed3e-495e-9507-0fee8964eb24",
   "metadata": {},
   "outputs": [],
   "source": [
    "l = ['the','quick and brown','fox','has',4,'feet']\n",
    "\n",
    "print(f'The first entry in the list is \"{l[0]}\".')\n",
    "print(f'The second and third entries are {l[1:3]}')\n",
    "print(f'The third to last entries are {l[2:]}')\n",
    "print(f'The last three entries are {l[-3:]}')\n"
   ]
  },
  {
   "cell_type": "code",
   "execution_count": null,
   "id": "bda33226-4e6d-48a6-97cf-23086f1837f5",
   "metadata": {},
   "outputs": [],
   "source": [
    "r = list(range(6))\n",
    "\n",
    "print(r)"
   ]
  },
  {
   "cell_type": "markdown",
   "id": "01613bcc-ab05-433e-aa88-d52bd37e2ddc",
   "metadata": {},
   "source": [
    "A string can be interpreted as a list of characters..."
   ]
  },
  {
   "cell_type": "code",
   "execution_count": null,
   "id": "d656279a-962b-4a3e-8adc-bfcf2c852726",
   "metadata": {},
   "outputs": [],
   "source": [
    "s = 'a short sentence'\n",
    "\n",
    "print(f'Characters 4 to 7 of \"{s}\" are \"{s[3:7]}\".')"
   ]
  },
  {
   "cell_type": "markdown",
   "id": "169f2b8d-2be0-49d3-94bd-424901d4b871",
   "metadata": {
    "jp-MarkdownHeadingCollapsed": true
   },
   "source": [
    "### Dictionary (or associative array)\n",
    "\n",
    "A dictionary contains key–value pairs.\n",
    "\n",
    "```\n",
    "theDict = {\"theKey\": aValue,\n",
    "           \"anotherKey\": aList,\n",
    "           ...\n",
    "}\n",
    "```\n",
    "\n",
    "Each value is accessible through its associated key.\n",
    "\n",
    "`theDict['theKey']` $\\longrightarrow$ `aValue`\n",
    "\n",
    "Values can be arbitrary things, but keys need to be \"hashable\".\n",
    "Examples of valid keys would be strings or numbers. "
   ]
  },
  {
   "cell_type": "code",
   "execution_count": null,
   "id": "9fce2a87-444e-46a5-9493-a83505f9bd6c",
   "metadata": {},
   "outputs": [],
   "source": [
    "d = {\n",
    "    \"Name\": \"Joe\",\n",
    "    \"Year of birth\": 1999,\n",
    "}\n",
    "\n",
    "print(f'{d[\"Name\"]} was born in {d[\"Year of birth\"]}!')"
   ]
  },
  {
   "cell_type": "markdown",
   "id": "7b4a50f2-f30f-497f-8c92-34bdd6950b56",
   "metadata": {
    "jp-MarkdownHeadingCollapsed": true
   },
   "source": [
    "### NumPy arrays\n",
    "\n",
    "Numerical Python (NumPy) is a package that provides a host of functionality to perform advanced mathematical calculations in vectorized form in Python.\n",
    "\n",
    "(Multi-dimensional) arrays constitute a core data structure that NumPy is based on. All elements of an array need to share the same \"data type\", e.g. 8-bit integer, 32-bit floating point number, 6-character string, etc., and are accessible by indexing the array."
   ]
  },
  {
   "cell_type": "code",
   "execution_count": null,
   "id": "d0c57db2-5e0e-454f-a3e3-ccf936e05d72",
   "metadata": {},
   "outputs": [],
   "source": [
    "import numpy as np"
   ]
  },
  {
   "cell_type": "code",
   "execution_count": null,
   "id": "714e011e-6f59-4642-aa8f-e5ac7b9195ee",
   "metadata": {},
   "outputs": [],
   "source": [
    "ar = np.array([1,10,100])\n",
    "\n",
    "print(f'second array element: {ar[1]}')\n",
    "print(f'whole array {ar}')\n",
    "print(f'square of each element {ar**2}')\n"
   ]
  },
  {
   "cell_type": "markdown",
   "id": "15b4ed22-126e-4bb7-abc3-c457e2a56546",
   "metadata": {},
   "source": [
    "Multi-dimensional arrays can be generated either explicitly, or by reshaping."
   ]
  },
  {
   "cell_type": "code",
   "execution_count": null,
   "id": "ec9fa770-1e2e-4290-9ecb-5858e655bac7",
   "metadata": {},
   "outputs": [],
   "source": [
    "twodim = np.array([\n",
    "    [1,2],\n",
    "    [5,9],\n",
    "])\n",
    "\n",
    "threedim = np.arange(24).reshape((4,2,3))\n",
    "\n",
    "print(f'all elements of the two-dimensional array:\\n{twodim}')\n",
    "\n",
    "print(f'all elements of the three-dimensional array:\\n{threedim}')\n",
    "\n",
    "print(f'the vector at index 2,1 of threedim: {threedim[2,1,:]}')"
   ]
  },
  {
   "cell_type": "markdown",
   "id": "68857418-24be-45b4-8d2e-17c21950f367",
   "metadata": {},
   "source": [
    "Slicing of NumPy arrays uses the same logic as do regular Python lists."
   ]
  },
  {
   "cell_type": "code",
   "execution_count": null,
   "id": "73eaf250-3f91-48cc-9ce3-f6f4254aa915",
   "metadata": {},
   "outputs": [],
   "source": [
    "print(f'last vector component of first two entries along first array dimension:\\n{threedim[:2,:,-1]}')"
   ]
  },
  {
   "cell_type": "markdown",
   "id": "6c2fe67f-2b2a-4320-8217-0f42367e58dc",
   "metadata": {},
   "source": [
    "---\n",
    "## Looping and branching"
   ]
  },
  {
   "cell_type": "markdown",
   "id": "6a372a77-9152-4583-947b-9eab7f679640",
   "metadata": {
    "jp-MarkdownHeadingCollapsed": true
   },
   "source": [
    "### For loop\n",
    "\n",
    "A `for variable in iterable` loop iteratively assigns the contents of `iterable` to `variable`.\n",
    "Typical data types that can be iterated are lists, (keys of) dictionaries, or NumPy arrays."
   ]
  },
  {
   "cell_type": "code",
   "execution_count": null,
   "id": "392c8c91-bd1c-4f4c-a910-fd950ccf5d15",
   "metadata": {},
   "outputs": [],
   "source": [
    "print('\\n iterating the list [3,6,9]')\n",
    "for var in [3,6,9]:\n",
    "    print(f'{var}')\n",
    "\n",
    "print('\\n iterating the range(0,10,2)') # the range(start,stop,step) function returns\n",
    "for var in range(0,10,2):            # start, start+step, ... until reaching (but excluding) end\n",
    "    print(f'{var} from range(0,10,2)')\n",
    "\n",
    "print('\\n iterating the enumeration of range(2,10,3)')\n",
    "for i,var in enumerate(range(2,10,3)):\n",
    "    print(f'element {i} from range(2,10,3) is: {var}')\n",
    "\n",
    "print('\\n iterating over all keys in dictionary \"d\"')\n",
    "for key in d:\n",
    "    print(f'{key} has value {d[key]}')\n"
   ]
  },
  {
   "cell_type": "markdown",
   "id": "753b4953-2e46-4a23-b83c-2a2d180f4df4",
   "metadata": {
    "jp-MarkdownHeadingCollapsed": true
   },
   "source": [
    "### While loop\n",
    "\n",
    "The `while condition` loop repeats as long as `condition` is `True`."
   ]
  },
  {
   "cell_type": "code",
   "execution_count": null,
   "id": "612753a7-8d88-44dd-977d-badb6dd052eb",
   "metadata": {},
   "outputs": [],
   "source": [
    "i = 0\n",
    "while i < 5:\n",
    "    print(f'current value of \"i\": {i}')\n",
    "    i += 1\n"
   ]
  },
  {
   "cell_type": "markdown",
   "id": "4e1b54b7-2008-46c5-befc-b4641114df9f",
   "metadata": {
    "jp-MarkdownHeadingCollapsed": true
   },
   "source": [
    "### If-then-else statement\n",
    "\n",
    "Like many other programming languages, Python offers classical if-then-else branching."
   ]
  },
  {
   "cell_type": "code",
   "execution_count": null,
   "id": "0e5dff9d-b672-4c51-ad61-6d434eea4573",
   "metadata": {},
   "outputs": [],
   "source": [
    "score = 100\n",
    "answer = \"don't know\"\n",
    "\n",
    "if answer == \"yes\":\n",
    "    print('I understand.')\n",
    "    score = 10\n",
    "elif answer == 'no':        # else if\n",
    "    print('Why not?')\n",
    "    score -= 1              # reduce score by one\n",
    "else:\n",
    "    print('Unknown answer...')\n",
    "    score = 0\n",
    "\n",
    "print(f'final score: {score}')"
   ]
  },
  {
   "cell_type": "markdown",
   "id": "41a81ced-ab94-40cd-a8a7-3eba88215890",
   "metadata": {
    "jp-MarkdownHeadingCollapsed": true
   },
   "source": [
    "### Conditional assignment\n",
    "\n",
    "The assignment `var = a if condition else b` assigns either `a` or `b` to `var` depending on whether `condition` is `True` or not."
   ]
  },
  {
   "cell_type": "code",
   "execution_count": null,
   "id": "426449b3-d4b8-449f-bd9f-d987ff92c5c2",
   "metadata": {},
   "outputs": [],
   "source": [
    "var = 'since when is 10 less than 5?!?' if 10 < 5 else '5 is indeed less than 10'\n",
    "\n",
    "print(var)"
   ]
  },
  {
   "cell_type": "markdown",
   "id": "d252d00a-e61e-4508-8220-15946060159f",
   "metadata": {
    "jp-MarkdownHeadingCollapsed": true
   },
   "source": [
    "---\n",
    "## Functions\n",
    "\n",
    "A function accepts arguments and returns a value.\n",
    "\n",
    "`func(arg,...)` $\\longrightarrow$ `value`\n",
    "\n",
    "A function is defined like this\n",
    "```\n",
    "def theFunction(arg,anotherArg,...)\n",
    "\n",
    "    do some things with arg,anotherArg,...\n",
    "\n",
    "    return someValue\n",
    "```"
   ]
  },
  {
   "cell_type": "code",
   "execution_count": null,
   "id": "90de7d3d-7c62-4424-bce3-6b9c22704d25",
   "metadata": {},
   "outputs": [],
   "source": [
    "def FirstPlusSecondMinusThird(a,b,c):\n",
    "    print(f'Evaluating {a} + {b} - {c}')  # this is for debugging---functions should refrain from printing...\n",
    "    \n",
    "    return a+b-c"
   ]
  },
  {
   "cell_type": "markdown",
   "id": "798c2eb2-9a02-445e-91b4-c81d18dbd4e3",
   "metadata": {},
   "source": [
    "Arguments are assigned either in the calling order or by explicitly naming them."
   ]
  },
  {
   "cell_type": "code",
   "execution_count": null,
   "id": "598f3f35-e50a-45a1-bcd1-a290d70f5d48",
   "metadata": {},
   "outputs": [],
   "source": [
    "print(FirstPlusSecondMinusThird(23,11,30))"
   ]
  },
  {
   "cell_type": "code",
   "execution_count": null,
   "id": "c173de48-5b36-4466-937c-96caaf5d7e29",
   "metadata": {},
   "outputs": [],
   "source": [
    "print(FirstPlusSecondMinusThird(c=30,a=23,b=11))"
   ]
  },
  {
   "cell_type": "markdown",
   "id": "eeb6b2e6-293e-4232-9028-754360530566",
   "metadata": {},
   "source": [
    "Arguments can also have default values."
   ]
  },
  {
   "cell_type": "code",
   "execution_count": null,
   "id": "7adbee21-de7f-42f7-87f7-6215b4c79034",
   "metadata": {},
   "outputs": [],
   "source": [
    "def addTwo(toWhat = 0):\n",
    "    return 2 + toWhat"
   ]
  },
  {
   "cell_type": "code",
   "execution_count": null,
   "id": "82711fb7-9e74-43fd-abf7-9d40639d3243",
   "metadata": {},
   "outputs": [],
   "source": [
    "print(f'just calling the function without arguments: {addTwo()}')\n",
    "print(f'calling the function with argument 10: {addTwo(10)}')\n"
   ]
  },
  {
   "cell_type": "markdown",
   "id": "f231965d-e5e1-4506-9703-61706e8a2c35",
   "metadata": {
    "jp-MarkdownHeadingCollapsed": true
   },
   "source": [
    "---\n",
    "## Objects\n",
    "\n",
    "Python is an object-oriented programming language.\n",
    "Objects are members of a \"class\" and are endorsed with so-called \"properties\", which can be \"methods\" (functions) or \"attributes\".\n",
    "\n",
    "* `object.method(arguments)` $\\longrightarrow$ `value`\n",
    "* `object.attribute` $\\longrightarrow$ `value`\n"
   ]
  },
  {
   "cell_type": "markdown",
   "id": "ae0c763d-e71c-45ce-a83d-41c4e3334cb5",
   "metadata": {},
   "source": [
    "### Example: string\n",
    "\n",
    "A simple example is a string, which is an object that comes with multiple methods."
   ]
  },
  {
   "cell_type": "code",
   "execution_count": null,
   "id": "42cce616-e2aa-4c5d-a324-26dca274c16f",
   "metadata": {},
   "outputs": [],
   "source": [
    "s = 'ABCdef'\n",
    "\n",
    "print(f'Translating to lower case: {s.lower()}')\n",
    "print(f'Swapping case: {s.swapcase()}')\n"
   ]
  },
  {
   "cell_type": "markdown",
   "id": "d6f64fc6-f305-4dab-8ada-986d2bf99cff",
   "metadata": {},
   "source": [
    "### Example: array\n",
    "\n",
    "Another relevant example are NumPy arrays."
   ]
  },
  {
   "cell_type": "code",
   "execution_count": null,
   "id": "c3c98e87-5045-4a5c-93a8-0afb64a6fcd3",
   "metadata": {},
   "outputs": [],
   "source": [
    "ar = np.arange(9)\n",
    "cutoff = 3\n",
    "mask = ar > cutoff\n",
    "\n",
    "print(f\"\"\"\n",
    "{\"Some\" if mask.any() else \"No\"} elements of {ar} are larger than {cutoff}.\n",
    "Those elements are {ar[mask]}.\n",
    "\"\"\")"
   ]
  },
  {
   "cell_type": "code",
   "execution_count": null,
   "id": "f7c5763d-2d1b-4265-85a5-efed09da7fce",
   "metadata": {},
   "outputs": [],
   "source": [
    "low = 3\n",
    "high = 6\n",
    "\n",
    "clipped = ar.clip(min=low,max=high)\n",
    "\n",
    "print(f'after clipping at {low} and {high}, the array is {clipped}')"
   ]
  },
  {
   "cell_type": "code",
   "execution_count": null,
   "id": "1aee5275-f63a-43a2-9369-62448fe573cf",
   "metadata": {},
   "outputs": [],
   "source": [
    "shifted = ar + 6\n",
    "maxVal = shifted.max()\n",
    "indexOfMax = shifted.argmax()\n",
    "\n",
    "print(f\"\"\"\n",
    "The index of the largest element in {shifted} is {indexOfMax}.\n",
    "The value at this position is {shifted[indexOfMax]}, which, of course,\n",
    "agrees with the result of the 'array.max()' method: {maxVal}.\n",
    "\"\"\")"
   ]
  },
  {
   "cell_type": "code",
   "execution_count": null,
   "id": "0cd9ec29-9d6a-4ddf-923f-37265146a6bd",
   "metadata": {},
   "outputs": [],
   "source": []
  }
 ],
 "metadata": {
  "kernelspec": {
   "display_name": "Python 3 (ipykernel)",
   "language": "python",
   "name": "python3"
  },
  "language_info": {
   "codemirror_mode": {
    "name": "ipython",
    "version": 3
   },
   "file_extension": ".py",
   "mimetype": "text/x-python",
   "name": "python",
   "nbconvert_exporter": "python",
   "pygments_lexer": "ipython3",
   "version": "3.12.5"
  }
 },
 "nbformat": 4,
 "nbformat_minor": 5
}
