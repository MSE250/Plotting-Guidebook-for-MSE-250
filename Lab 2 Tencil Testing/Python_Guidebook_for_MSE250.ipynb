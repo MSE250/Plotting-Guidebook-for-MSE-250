{
  "cells": [
    {
      "cell_type": "markdown",
      "metadata": {
        "editable": true,
        "slideshow": {
          "slide_type": ""
        },
        "tags": []
      },
      "source": [
        "# Python Guidebook for MSE250\n",
        "\n",
        "Hello everyone, Jupyter Notebook is a versatile notebook that allows you to write and run Python code directly in your browser. \\\n",
        "\\\n",
        "This Guidebook is designed to be user-friendly, and no programming background required. You can easily generate plots by running the provided code snippets.\\\n",
        "\\\n",
        "However, you will need to upload your data for plotting to the folder on the left side, and manually adjust settings such as line colors as required.\n",
        "\n",
        "Please feel free to read along and click the `Run this cell and advance` button (shift + enter) at the top to execute the code and see how it works.\n",
        "\n",
        "******************************************\\\n",
        "Content\n",
        "\n",
        "1. How to import data\n",
        "2. How to do calculations\n",
        "3. How to plot graphs \\\n",
        "3.1. Line Graph \\\n",
        "3.2. Subplot \\\n",
        "3.3. Histogram\n",
        "4. Data statistics\n",
        "5. Write formulas in Latex"
      ]
    },
    {
      "cell_type": "markdown",
      "metadata": {
        "editable": true,
        "slideshow": {
          "slide_type": ""
        },
        "tags": []
      },
      "source": [
        "## 1. How to import data"
      ]
    },
    {
      "cell_type": "markdown",
      "metadata": {},
      "source": [
        "Before using python, we need to import some required modules："
      ]
    },
    {
      "cell_type": "code",
      "execution_count": null,
      "metadata": {
        "editable": true,
        "scrolled": true,
        "slideshow": {
          "slide_type": ""
        },
        "tags": [],
        "trusted": true
      },
      "outputs": [],
      "source": [
        "import pandas as pd\n",
        "import numpy as np\n",
        "import matplotlib.pyplot as plt"
      ]
    },
    {
      "cell_type": "markdown",
      "metadata": {
        "editable": true,
        "slideshow": {
          "slide_type": ""
        },
        "tags": []
      },
      "source": [
        "There are many ways to import data. Here we directly click the upload icon in the upper left corner of the web page to manually import the table (csv file) we need."
      ]
    },
    {
      "cell_type": "code",
      "execution_count": null,
      "metadata": {
        "editable": true,
        "slideshow": {
          "slide_type": ""
        },
        "tags": [],
        "trusted": true
      },
      "outputs": [],
      "source": [
        "filename = 'brass.csv'\n",
        "brass_data = pd.read_csv(filename, skiprows=6, delimiter=',')\n",
        "\n",
        "# Since the first 6 rows of the table are not the data we need, \n",
        "# we use the \"skiprow\" command to skip them. \n",
        "\n",
        "# Since the delimiter of each data in brass.csv is \",\", \n",
        "# we use the delimiter=',' command to prevent data reading errors."
      ]
    },
    {
      "cell_type": "code",
      "execution_count": null,
      "metadata": {
        "editable": true,
        "slideshow": {
          "slide_type": ""
        },
        "tags": [],
        "trusted": true
      },
      "outputs": [],
      "source": [
        "brass_data.head(n=5) # Display the first 5 rows of data in brass_data"
      ]
    },
    {
      "cell_type": "markdown",
      "metadata": {},
      "source": [
        "The `brass_data.iloc[:, 1]` will extract all the data from the 2nd column starting from the first row to the last row of the data table.（Counting in python starts from 0, not 1）\n",
        "\n",
        "If we want to read the 4th column and the data from the 1st to the 6rd row, we can write like this: `brass_data.iloc[0:6, 3]`"
      ]
    },
    {
      "cell_type": "code",
      "execution_count": null,
      "metadata": {
        "editable": true,
        "slideshow": {
          "slide_type": ""
        },
        "tags": [],
        "trusted": true
      },
      "outputs": [],
      "source": [
        "time = brass_data.iloc[:, 1]         # Extracting data from the 2nd column (index 1)\n",
        "displacement = brass_data.iloc[:, 2]  # Extracting data from the 3rd column (index 2)\n",
        "force = brass_data.iloc[:, 3]         # Extracting data from the 4th column (index 3)"
      ]
    },
    {
      "cell_type": "markdown",
      "metadata": {},
      "source": [
        "We can also manually enter data："
      ]
    },
    {
      "cell_type": "code",
      "execution_count": null,
      "metadata": {
        "editable": true,
        "slideshow": {
          "slide_type": ""
        },
        "tags": [],
        "trusted": true
      },
      "outputs": [],
      "source": [
        "width = 12.73\n",
        "thickness = 1.52\n",
        "length = 78.49"
      ]
    },
    {
      "cell_type": "markdown",
      "metadata": {},
      "source": [
        "## 2. How to do calculations"
      ]
    },
    {
      "cell_type": "markdown",
      "metadata": {},
      "source": [
        "We need to perform a unit conversion. Convert the unit of `force` from N to kN, and convert the unit of `displacement` from mm to inch."
      ]
    },
    {
      "cell_type": "code",
      "execution_count": null,
      "metadata": {
        "trusted": true
      },
      "outputs": [],
      "source": [
        "force_kN = force * 0.001                   # Converting force from N to kN\n",
        "y = force_kN\n",
        "\n",
        "displacement_inch = displacement * 0.0394  # Converting displacement from mm to inch\n",
        "x = displacement_inch"
      ]
    },
    {
      "cell_type": "markdown",
      "metadata": {},
      "source": [
        "## 3. How to plot graphs"
      ]
    },
    {
      "cell_type": "markdown",
      "metadata": {},
      "source": [
        "### 3.1. Line Graph"
      ]
    },
    {
      "cell_type": "markdown",
      "metadata": {},
      "source": [
        "The command to draw a line graph is `plt.plot()`, and it comes with a lot of options for adjusting the drawing style.\n",
        "For more details, please read: https://matplotlib.org/stable/tutorials/pyplot.html"
      ]
    },
    {
      "cell_type": "code",
      "execution_count": null,
      "metadata": {
        "editable": true,
        "slideshow": {
          "slide_type": ""
        },
        "tags": [],
        "trusted": true
      },
      "outputs": [],
      "source": [
        "plt.plot(x, y, linestyle='-', marker='.', color='blue', linewidth=1)\n",
        "plt.plot(0.5 * x, 0.5 * y, linestyle='--', marker='*', color='green', linewidth=0.5)\n",
        "\n",
        "plt.xlabel(\"displacement (inch)\") # X-axis label\n",
        "plt.ylabel(\"force (kN)\")          # Y-axis label\n",
        "\n",
        "x_max = np.max(x)                    # Maximum of displacement_inch\n",
        "plt.xticks(np.arange(0, x_max, 0.1)) # X-axis from 0 to displacement_inch_max, every 0.1 tick\n",
        "\n",
        "y_max = np.max(y)                  # Maximum of force_kN\n",
        "plt.yticks(np.arange(0, y_max, 1)) # Y-axis from 0 to force_kN_max, every 1 tick\n",
        "\n",
        "plt.legend([\"brass 1\",\"brass 2\"]) # Legend\n",
        "\n",
        "plt.show() # Show graph"
      ]
    },
    {
      "cell_type": "markdown",
      "metadata": {},
      "source": [
        "### 3.2 subplot"
      ]
    },
    {
      "cell_type": "code",
      "execution_count": null,
      "metadata": {
        "trusted": true
      },
      "outputs": [],
      "source": [
        "# The first subplot\n",
        "plt.subplot(2, 2, 1)  # (number of rows, number of columns, subplot number)\n",
        "plt.plot(x, y, color='blue')\n",
        "plt.plot(0.5 * x, 0.5 * y, color='green')\n",
        "\n",
        "# The second subplot\n",
        "plt.subplot(2, 2, 2)\n",
        "sqrt_y = np.sqrt(y) # np.sqrt is used to calculate square roots\n",
        "plt.plot(x, sqrt_y, color='red')\n",
        "\n",
        "# The third subplot\n",
        "plt.subplot(2, 2, 3)\n",
        "cube_y = pow(y, 3) # pow(x, n) is used to calculate nth power, pow(x, n) = x ^ n\n",
        "plt.plot(x, cube_y, color='orange')\n",
        "\n",
        "# The fourth subplot\n",
        "plt.subplot(2, 2, 4)\n",
        "plt.plot(10 + x, 1 / y, color='gray')\n",
        "\n",
        "plt.show()"
      ]
    },
    {
      "cell_type": "markdown",
      "metadata": {},
      "source": [
        "### 3.3 Histogram"
      ]
    },
    {
      "cell_type": "markdown",
      "metadata": {},
      "source": [
        "Similar to `plt.plot()`, the command for plotting a histogram is `plt.hist()`. If we want to divide the data into 10 equal groups, the command is:"
      ]
    },
    {
      "cell_type": "code",
      "execution_count": null,
      "metadata": {
        "trusted": true
      },
      "outputs": [],
      "source": [
        "plt.hist(force, bins=10, edgecolor='black')  # Histogram with 10 bins\n",
        "\n",
        "plt.show()"
      ]
    },
    {
      "cell_type": "markdown",
      "metadata": {},
      "source": [
        "We can also customize the edges:"
      ]
    },
    {
      "cell_type": "code",
      "execution_count": null,
      "metadata": {
        "editable": true,
        "slideshow": {
          "slide_type": ""
        },
        "tags": [],
        "trusted": true
      },
      "outputs": [],
      "source": [
        "edges = [0, 7000, 7500, 9000]\n",
        "plt.hist(force, bins=edges)\n",
        "plt.show()"
      ]
    },
    {
      "cell_type": "markdown",
      "metadata": {
        "editable": true,
        "slideshow": {
          "slide_type": ""
        },
        "tags": []
      },
      "source": [
        "## 4. Data statistics"
      ]
    },
    {
      "cell_type": "markdown",
      "metadata": {},
      "source": [
        "Python has some instructions that can directly obtain the basic statistical information of the data."
      ]
    },
    {
      "cell_type": "code",
      "execution_count": null,
      "metadata": {
        "trusted": true
      },
      "outputs": [],
      "source": [
        "# Maximum value\n",
        "max_x = np.argmax(y)\n",
        "max_y = y[max_x]\n",
        "print(\"Maximum Value Coordinate :\", (max_x, max_y), \"\\n\")\n",
        "\n",
        "# Minimum value\n",
        "min_x = np.argmin(y)\n",
        "min_y = y[min_x]\n",
        "print(\"Minimum Value Coordinate :\", (min_x, min_y), \"\\n\")\n",
        "\n",
        "# Mean value\n",
        "mean_y = np.mean(y)\n",
        "print(\"Mean Value:\", mean_y, \"\\n\")\n",
        "\n",
        "# Standard deviation\n",
        "std_y = np.std(y)\n",
        "print(\"Standard Deviation:\", std_y, \"\\n\")"
      ]
    },
    {
      "cell_type": "markdown",
      "metadata": {},
      "source": [
        "The function `plot_tangent_at_index(x, y, cutoff_point_x)` is designed to calculate and plot a tangent line to a given set of data points. The parameters `x` and `y` represent the coordinates of the original data points on which the tangent line will be drawn. The `cutoff_point_x parameter` specifies the x-coordinate of the point at which the tangent line is to be calculated and plotted.\n",
        "\n",
        "It is important to note that the method used to calculate the slope of the tangent line considers only the two points nearest to the specified `cutoff_point_x`. As experimental data are not always perfectly smooth, this approach might result in inaccuracies in the slope calculation, particularly at points where the actual slope is close to zero. These inaccuracies can be attributed to the inherent noise or irregularities in the data."
      ]
    },
    {
      "cell_type": "code",
      "execution_count": null,
      "metadata": {
        "trusted": true
      },
      "outputs": [],
      "source": [
        "def plot_tangent_at_index(x, y, cutoff_point_x, fraction_of_length=10): #'fraction_of_length' controls the tangent length\n",
        "    index = np.argmin(np.abs(x - cutoff_point_x))\n",
        "    \n",
        "    if not 0 < index < len(x) - 1:\n",
        "        raise ValueError(\"Index out of valid range\")\n",
        "\n",
        "    slope = (y[index + 1] - y[index - 1]) / (x[index + 1] - x[index - 1])\n",
        "\n",
        "    y_intercept = y[index] - slope * x[index]\n",
        "\n",
        "    x_length = len(x)\n",
        "    x_left = max(0, int(index - x_length / fraction_of_length))\n",
        "    x_right = min(x_length, int(index + x_length / fraction_of_length))\n",
        "\n",
        "    x_tangent = np.linspace(x[x_left], x[x_right], num=3)\n",
        "    y_tangent = y_intercept + slope * x_tangent\n",
        "\n",
        "    x_tangent_point = x[index]\n",
        "    y_tangent_point = y[index]\n",
        "\n",
        "    plt.plot(x, y, label=\"Original Curve\")\n",
        "    plt.plot(x_tangent, y_tangent, label=\"Tangent at ({:.2f}, {:.2f})\".format(x_tangent_point, y_tangent_point))\n",
        "    plt.legend()\n",
        "    plt.show()\n",
        "    print(\"Slope of Tangent at x =\", (x_tangent_point, y_tangent_point), \"is\", slope)\n",
        "\n",
        "plot_tangent_at_index(x, y, 0.1)  # Suppose you want to draw a tangent line at x = 0.1"
      ]
    },
    {
      "cell_type": "markdown",
      "metadata": {},
      "source": [
        "# 5. Write formulas in Latex"
      ]
    },
    {
      "cell_type": "markdown",
      "metadata": {},
      "source": [
        "It is highly recommended to use Latex as a writing tool for physical formulas. Both Word and Pages can use Latex to write formulas. But the syntax of Latex is a bit special. Here are some examples. You can double-click the formula to view the input content and copy the content into the Latex writing tool of Word or Pages.\n",
        "\n",
        "For more details adding math equations in Pages, please check: https://support.apple.com/guide/pages/add-mathematical-equations-tanca5a4fbd9/mac\n",
        "\n",
        "For more details adding math equations in Word, please check: https://support.microsoft.com/en-au/office/linear-format-equations-using-unicodemath-and-latex-in-word-2e00618d-b1fd-49d8-8cb4-8d17f25754f8"
      ]
    },
    {
      "cell_type": "markdown",
      "metadata": {},
      "source": [
        "$a^2 + b^2 = c^2$"
      ]
    },
    {
      "cell_type": "markdown",
      "metadata": {},
      "source": [
        "$\\frac{a}{b}$"
      ]
    },
    {
      "cell_type": "markdown",
      "metadata": {},
      "source": [
        "$\\sqrt{x+y}$"
      ]
    },
    {
      "cell_type": "markdown",
      "metadata": {},
      "source": [
        "$\\alpha, \\beta, \\gamma$"
      ]
    },
    {
      "cell_type": "markdown",
      "metadata": {},
      "source": [
        "$\\int_{a}^{b} x^2 dx$"
      ]
    },
    {
      "cell_type": "markdown",
      "metadata": {},
      "source": [
        "$\\sum_{i=1}^{n} i^2$"
      ]
    },
    {
      "cell_type": "markdown",
      "metadata": {},
      "source": [
        "This is an online tool that can quickly generate Latex formulas: https://editor.codecogs.com"
      ]
    },
    {
      "cell_type": "code",
      "execution_count": null,
      "metadata": {
        "trusted": true
      },
      "outputs": [],
      "source": []
    }
  ],
  "metadata": {
    "kernelspec": {
      "display_name": "Python 3",
      "language": "python",
      "name": "python3"
    },
    "language_info": {
      "codemirror_mode": {
        "name": "python",
        "version": 3
      },
      "file_extension": ".py",
      "mimetype": "text/x-python",
      "name": "python",
      "nbconvert_exporter": "python",
      "pygments_lexer": "ipython3",
      "version": "3.12.1"
    }
  },
  "nbformat": 4,
  "nbformat_minor": 4
}
