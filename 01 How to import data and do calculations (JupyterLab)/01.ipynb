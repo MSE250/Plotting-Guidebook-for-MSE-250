{
  "cells": [
    {
      "cell_type": "markdown",
      "metadata": {
        "editable": true,
        "slideshow": {
          "slide_type": ""
        },
        "tags": []
      },
      "source": [
        "## 1. How to import data"
      ]
    },
    {
      "cell_type": "markdown",
      "metadata": {},
      "source": [
        "Before using python, we need to import some required modules："
      ]
    },
    {
      "cell_type": "code",
      "execution_count": 1,
      "metadata": {
        "editable": true,
        "scrolled": true,
        "slideshow": {
          "slide_type": ""
        },
        "tags": [],
        "trusted": true
      },
      "outputs": [],
      "source": [
        "import pandas as pd\n",
        "import numpy as np\n",
        "import matplotlib.pyplot as plt"
      ]
    },
    {
      "cell_type": "markdown",
      "metadata": {
        "editable": true,
        "slideshow": {
          "slide_type": ""
        },
        "tags": []
      },
      "source": [
        "There are many ways to import data. Here we directly click the upload icon in the upper left corner of the web page to manually import the table (csv file) we need."
      ]
    },
    {
      "cell_type": "code",
      "execution_count": 2,
      "metadata": {
        "editable": true,
        "slideshow": {
          "slide_type": ""
        },
        "tags": [],
        "trusted": true
      },
      "outputs": [],
      "source": [
        "filename = 'brass.csv'\n",
        "brass_data = pd.read_csv(filename, skiprows=6, delimiter=',')\n",
        "\n",
        "# Since the first 6 rows of the table are not the data we need, \n",
        "# we use the \"skiprow\" command to skip them. \n",
        "\n",
        "# Since the delimiter of each data in brass.csv is \",\", \n",
        "# we use the delimiter=',' command to prevent data reading errors."
      ]
    },
    {
      "cell_type": "code",
      "execution_count": 3,
      "metadata": {
        "editable": true,
        "slideshow": {
          "slide_type": ""
        },
        "tags": [],
        "trusted": true
      },
      "outputs": [
        {
          "data": {
            "text/html": [
              "<div>\n",
              "<style scoped>\n",
              "    .dataframe tbody tr th:only-of-type {\n",
              "        vertical-align: middle;\n",
              "    }\n",
              "\n",
              "    .dataframe tbody tr th {\n",
              "        vertical-align: top;\n",
              "    }\n",
              "\n",
              "    .dataframe thead th {\n",
              "        text-align: right;\n",
              "    }\n",
              "</style>\n",
              "<table border=\"1\" class=\"dataframe\">\n",
              "  <thead>\n",
              "    <tr style=\"text-align: right;\">\n",
              "      <th></th>\n",
              "      <th>Unnamed: 0</th>\n",
              "      <th>(s)</th>\n",
              "      <th>(mm)</th>\n",
              "      <th>(N)</th>\n",
              "    </tr>\n",
              "  </thead>\n",
              "  <tbody>\n",
              "    <tr>\n",
              "      <th>0</th>\n",
              "      <td>NaN</td>\n",
              "      <td>0.0</td>\n",
              "      <td>0.0000</td>\n",
              "      <td>39.3799</td>\n",
              "    </tr>\n",
              "    <tr>\n",
              "      <th>1</th>\n",
              "      <td>NaN</td>\n",
              "      <td>0.1</td>\n",
              "      <td>0.0042</td>\n",
              "      <td>43.7967</td>\n",
              "    </tr>\n",
              "    <tr>\n",
              "      <th>2</th>\n",
              "      <td>NaN</td>\n",
              "      <td>0.2</td>\n",
              "      <td>0.0175</td>\n",
              "      <td>45.0747</td>\n",
              "    </tr>\n",
              "    <tr>\n",
              "      <th>3</th>\n",
              "      <td>NaN</td>\n",
              "      <td>0.3</td>\n",
              "      <td>0.0481</td>\n",
              "      <td>45.3055</td>\n",
              "    </tr>\n",
              "    <tr>\n",
              "      <th>4</th>\n",
              "      <td>NaN</td>\n",
              "      <td>0.4</td>\n",
              "      <td>0.0677</td>\n",
              "      <td>45.9245</td>\n",
              "    </tr>\n",
              "  </tbody>\n",
              "</table>\n",
              "</div>"
            ],
            "text/plain": [
              "   Unnamed: 0  (s)    (mm)      (N)\n",
              "0         NaN  0.0  0.0000  39.3799\n",
              "1         NaN  0.1  0.0042  43.7967\n",
              "2         NaN  0.2  0.0175  45.0747\n",
              "3         NaN  0.3  0.0481  45.3055\n",
              "4         NaN  0.4  0.0677  45.9245"
            ]
          },
          "execution_count": 3,
          "metadata": {},
          "output_type": "execute_result"
        }
      ],
      "source": [
        "brass_data.head(n=5) # Display the first 5 rows of data in brass_data"
      ]
    },
    {
      "cell_type": "markdown",
      "metadata": {},
      "source": [
        "The `brass_data.iloc[:, 1]` will extract all the data from the 2nd column starting from the first row to the last row of the data table.（Counting in python starts from 0, not 1）\n",
        "\n",
        "If we want to read the 4th column and the data from the 1st to the 6rd row, we can write like this: `brass_data.iloc[0:6, 3]`"
      ]
    },
    {
      "cell_type": "code",
      "execution_count": 4,
      "metadata": {
        "editable": true,
        "slideshow": {
          "slide_type": ""
        },
        "tags": [],
        "trusted": true
      },
      "outputs": [],
      "source": [
        "time = brass_data.iloc[:, 1]         # Extracting data from the 2nd column (index 1)\n",
        "displacement = brass_data.iloc[:, 2]  # Extracting data from the 3rd column (index 2)\n",
        "force = brass_data.iloc[:, 3]         # Extracting data from the 4th column (index 3)"
      ]
    },
    {
      "cell_type": "markdown",
      "metadata": {},
      "source": [
        "We can also manually enter data："
      ]
    },
    {
      "cell_type": "code",
      "execution_count": null,
      "metadata": {
        "editable": true,
        "slideshow": {
          "slide_type": ""
        },
        "tags": [],
        "trusted": true
      },
      "outputs": [],
      "source": [
        "width = 12.73\n",
        "thickness = 1.52\n",
        "length = 78.49"
      ]
    },
    {
      "cell_type": "markdown",
      "metadata": {},
      "source": [
        "## 2. How to do calculations"
      ]
    },
    {
      "cell_type": "markdown",
      "metadata": {},
      "source": [
        "We need to perform a unit conversion. Convert the unit of `force` from N to kN, and convert the unit of `displacement` from mm to inch."
      ]
    },
    {
      "cell_type": "code",
      "execution_count": null,
      "metadata": {
        "trusted": true
      },
      "outputs": [],
      "source": [
        "force_kN = force * 0.001                   # Converting force from N to kN\n",
        "y = force_kN\n",
        "\n",
        "displacement_inch = displacement * 0.0394  # Converting displacement from mm to inch\n",
        "x = displacement_inch"
      ]
    }
  ],
  "metadata": {
    "kernelspec": {
      "display_name": "Python (Pyodide)",
      "language": "python",
      "name": "python"
    },
    "language_info": {
      "codemirror_mode": {
        "name": "python",
        "version": 3
      },
      "file_extension": ".py",
      "mimetype": "text/x-python",
      "name": "python",
      "nbconvert_exporter": "python",
      "pygments_lexer": "ipython3",
      "version": "3.8"
    }
  },
  "nbformat": 4,
  "nbformat_minor": 4
}
