{
 "cells": [
  {
   "cell_type": "markdown",
   "metadata": {
    "editable": true,
    "slideshow": {
     "slide_type": ""
    },
    "tags": []
   },
   "source": [
    "# Jupyter Guidebook for MSE 250 Lab"
   ]
  },
  {
   "cell_type": "markdown",
   "metadata": {},
   "source": [
    "Jupyter notebooks are a versatile tool that allows you to write and run Python code directly in your browser.\n",
    "\n",
    "This Guidebook is designed to be user-friendly, and no programming background is required.\n",
    "You can easily generate plots based on the provided code snippets.\n",
    "\n",
    "However, you will need to upload your data to your EGR home directory (reflected in the left panel), and manually adjust settings such as line colors, variable names and the like as required.\n",
    "\n",
    "Please feel free to read along and click ▶ (\"Run this cell and advance\") at the top to execute each cell and see how it works.\n",
    "Note that the order of cell execution matters as the internal state (e.g. values of defined variables) gets updated with each cell execution.\n"
   ]
  },
  {
   "cell_type": "markdown",
   "metadata": {},
   "source": [
    "## Content"
   ]
  },
  {
   "cell_type": "markdown",
   "metadata": {},
   "source": [
    "1. [How to upload data](#How-to-upload-data-files)\n",
    "1. [How to import data](#How-to-import-data)\n",
    "1. [How to do calculations](#How-to-do-calculations)\n",
    "1. [How to plot graphs](#How-to-plot-graphs)\n",
    "    1. [X–Y plots](#X-Y-scatter-and-line-plots)\n",
    "    1. [Subplots](#Subplots)\n",
    "    1. [Probability distributions](#Probability-distributions)\n",
    "1. [Data analysis](#Data-analysis)\n",
    "    1. [Basic statistics](#Basic-statistics)\n",
    "    1. [Smoothing](#Smoothing)\n",
    "    1. [Tangent to a curve](#Tangent-to-a-curve)\n",
    "1. [Formatting equations with $\\LaTeX$](#Formatting-equations-with-$\\LaTeX$)"
   ]
  },
  {
   "cell_type": "markdown",
   "metadata": {},
   "source": [
    "## How to upload data files"
   ]
  },
  {
   "cell_type": "markdown",
   "metadata": {
    "editable": true,
    "slideshow": {
     "slide_type": ""
    },
    "tags": []
   },
   "source": [
    "Any data files that we want to analyse and/or visualize have to be transferred to your EGR home directory.\n",
    "One way to accomplish this is to click ⇪ (\"Upload Files\") at the top of the left Jupyter panel to upload the files that we need.\n",
    "Of course, any other way, such as mounting your EGR home directory on your local machine, to copy necessary files would equally work.\n",
    "\n",
    "After successfully uploading/transferring files, they will show up in the list of files on the left."
   ]
  },
  {
   "cell_type": "markdown",
   "metadata": {},
   "source": [
    "## Required Python modules"
   ]
  },
  {
   "cell_type": "markdown",
   "metadata": {},
   "source": [
    "Before using Python for data processing and visualization, some required modules need to be imported.\n",
    "\n",
    "* [pandas](https://pandas.pydata.org/pandas-docs/stable/index.html) for dealing with spreadsheet-like data\n",
    "* [NumPy](https://numpy.org) for performing calculations on data arrays\n",
    "* [Seaborn](https://seaborn.pydata.org) for high-level access to plotting functionality\n",
    "* [Matplotlib](https://matplotlib.org) as base-level plotting engine\n",
    "\n",
    "Note that we provide (the typical) shorthand names for each of these modules with the `as alias` modifier!"
   ]
  },
  {
   "cell_type": "markdown",
   "metadata": {},
   "source": [
    "Each of these modules provides an assortment of functions (called \"methods\") that can be accessed as `module.method()`.\n",
    "For example, `numpy` provides math functions such as `np.sqrt()` or `np.cos()`, which will calculate the square root and cosine of their argument, respectively.\n",
    "Similarly, a module can contain variables that control the overall behavior.\n",
    "For example, `plt.rcParams` is a dictionary of runtime configuration properties that determine the look and feel of Matplotlib."
   ]
  },
  {
   "cell_type": "code",
   "execution_count": null,
   "metadata": {
    "editable": true,
    "scrolled": true,
    "slideshow": {
     "slide_type": ""
    },
    "tags": []
   },
   "outputs": [],
   "source": [
    "import numpy as np\n",
    "import pandas as pd\n",
    "import seaborn as sns\n",
    "from matplotlib import pyplot as plt\n",
    "\n",
    "plt.rcParams['text.usetex'] = True"
   ]
  },
  {
   "cell_type": "markdown",
   "metadata": {
    "editable": true,
    "slideshow": {
     "slide_type": ""
    },
    "tags": []
   },
   "source": [
    "## How to import data"
   ]
  },
  {
   "cell_type": "markdown",
   "metadata": {},
   "source": [
    "For demonstration purposes, we will use an exemplary output file from our Instron tensile testing frame.\n",
    "The file is called \"force-displacement.csv\" and contains comma-separated data like this\n",
    "```\n",
    "Results Table 1\n",
    ",Specimen label,Width,Thickness,Length,Tensile strain (Displacement) at Break (Standard),Maximum Tensile stress\n",
    ",,(mm),(mm),(mm),(%),(MPa)\n",
    "\"1\",\"BrassS4_01\",\"12.73\",\"1.52\",\"78.49\",\"34.28\",\"427.03\"\n",
    "\n",
    "1,Time,Displacement,Force\n",
    ",(s),(mm),(N)\n",
    "\"\",\"0.0000\",\"0.0000\",\"39.3799\"\n",
    "\"\",\"0.1000\",\"0.0042\",\"43.7967\"\n",
    "\"\",\"0.2000\",\"0.0175\",\"45.0747\"\n",
    "...\n",
    "```\n",
    "\n"
   ]
  },
  {
   "cell_type": "markdown",
   "metadata": {},
   "source": [
    "### Using `pandas` to read a text file into a spreadsheet (called a pandas \"data frame\")"
   ]
  },
  {
   "cell_type": "markdown",
   "metadata": {},
   "source": [
    "Pandas offers a convenient [`read_csv`](https://pandas.pydata.org/docs/reference/api/pandas.read_csv.html) function that we are going to use to parse comma-separated values (csv files) into a data frame that we will call `df`.\n",
    "\n",
    "* Since the first seven lines of the \"force-displacement.csv\" file contain information that we do not want to keep, we use the `skiprows=7` option to skip them. (They would actually confuse the parser, which relies on the first line to estimate how the rest of the file looks like!)\n",
    "* Similarly, because the first column is always empty, we only `usecolumns=[1,2,3]`\n",
    "* Lastly, to specify our own (more meaningful) names for the columns of interest, we provide those with the `names=['Time/s','Displacement/mm','Force/N']` argument.\n",
    "\n",
    "Note that Python indices are starting at zero and ranges _exclude_ the last item.\n",
    "E.g., the range `2:5` contains indices `2, 3, 4`, but _not_ 5!"
   ]
  },
  {
   "cell_type": "code",
   "execution_count": null,
   "metadata": {
    "editable": true,
    "slideshow": {
     "slide_type": ""
    },
    "tags": []
   },
   "outputs": [],
   "source": [
    "df = pd.read_csv('force-displacement.csv',\n",
    "                 skiprows=7,\n",
    "                 usecols=[1,2,3],\n",
    "                 names=['Time/s','Displacement/mm','Force/N'],\n",
    "                )\n"
   ]
  },
  {
   "cell_type": "code",
   "execution_count": null,
   "metadata": {
    "editable": true,
    "slideshow": {
     "slide_type": ""
    },
    "tags": []
   },
   "outputs": [],
   "source": [
    "df.head(n=5)          # Display the first 5 rows of the data frame"
   ]
  },
  {
   "cell_type": "markdown",
   "metadata": {},
   "source": [
    "One can access values in the data frame by first selecting the column and (optionally) a range of rows.\n",
    "In the below example, we extract the time column for rows 10 to 20.\n",
    "The pandas documentation provides a much more involved [explanation of how to access parts of data frames](https://pandas.pydata.org/docs/user_guide/indexing.html) in case you want to learn more."
   ]
  },
  {
   "cell_type": "code",
   "execution_count": null,
   "metadata": {},
   "outputs": [],
   "source": [
    "df['Time/s'][10:20]"
   ]
  },
  {
   "cell_type": "markdown",
   "metadata": {},
   "source": [
    "## How to do calculations"
   ]
  },
  {
   "cell_type": "markdown",
   "metadata": {},
   "source": [
    "Any constants should be declared with a descriptive name. \n",
    "Using these names (in contrast to an explicit value) in any subsequent calculations is good practice because it makes the formulas general and easy to understand.\n",
    "Let's start by defining some named constants:"
   ]
  },
  {
   "cell_type": "code",
   "execution_count": null,
   "metadata": {
    "editable": true,
    "slideshow": {
     "slide_type": ""
    },
    "tags": []
   },
   "outputs": [],
   "source": [
    "width = 12.73\n",
    "thickness = 1.52\n",
    "length = 78.49\n",
    "\n",
    "inch_to_mm = 25.4"
   ]
  },
  {
   "cell_type": "markdown",
   "metadata": {},
   "source": [
    "### Example: unit conversions"
   ]
  },
  {
   "cell_type": "markdown",
   "metadata": {},
   "source": [
    "Suppose you need to perform a unit conversion of `Displacement/mm` from mm to inch and `Force/N` from N to kN.\n",
    "The results are stored as two new columns in the existing data frame `df`."
   ]
  },
  {
   "cell_type": "code",
   "execution_count": null,
   "metadata": {},
   "outputs": [],
   "source": [
    "df['Displacement/in'] = df['Displacement/mm'] / inch_to_mm     # Converting displacements from mm to inch\n",
    "df['Force/kN'] = df['Force/N'] * 1e-3                          # Converting forces from N to kN"
   ]
  },
  {
   "cell_type": "code",
   "execution_count": null,
   "metadata": {},
   "outputs": [],
   "source": [
    "df.head(n=5)"
   ]
  },
  {
   "cell_type": "markdown",
   "metadata": {},
   "source": [
    "## How to plot graphs"
   ]
  },
  {
   "cell_type": "markdown",
   "metadata": {},
   "source": [
    "Plotting data with Python can be accomplished in many different ways.\n",
    "The foundational plotting functionality is provided by [`matplotlib`](https://matplotlib.org/stable/tutorials/pyplot.html) with numerous other modules building on top of it for enhanced ease-of-use.\n",
    "A useful one is [`seaborn`](https://seaborn.pydata.org/), but a more comprehensive comparison of polular options can be found in \n",
    "[this article](https://towardsdatascience.com/top-6-python-libraries-for-visualization-which-one-to-use-fe43381cd658).\n"
   ]
  },
  {
   "cell_type": "markdown",
   "metadata": {},
   "source": [
    "We will demonstrate how to generate some basic plotting types with [Matplotlib](https://matplotlib.org/stable/tutorials/pyplot.html) and [Seaborn](https://seaborn.pydata.org/) in the following.\n",
    "Choose the option that best suits your style."
   ]
  },
  {
   "cell_type": "markdown",
   "metadata": {},
   "source": [
    "For later use, let us define a basic set of colors..."
   ]
  },
  {
   "cell_type": "code",
   "execution_count": null,
   "metadata": {},
   "outputs": [],
   "source": [
    "linecolor =  '#FFA500'     # orange\n",
    "markercolor = '#00a00030'  # a semitransparent shade of green"
   ]
  },
  {
   "cell_type": "markdown",
   "metadata": {},
   "source": [
    "... and shorthand names for two datasets that we will be frequently using."
   ]
  },
  {
   "cell_type": "code",
   "execution_count": null,
   "metadata": {},
   "outputs": [],
   "source": [
    "x = df['Displacement/in']\n",
    "y = df['Force/kN']"
   ]
  },
  {
   "cell_type": "markdown",
   "metadata": {},
   "source": [
    "### X-Y scatter and line plots"
   ]
  },
  {
   "cell_type": "markdown",
   "metadata": {},
   "source": [
    "####  Matplotlib"
   ]
  },
  {
   "cell_type": "markdown",
   "metadata": {},
   "source": [
    "The command to draw a line graph or scatter plot is `plt.plot()`, and it comes with a lot of options for adjusting the drawing style.\n",
    "For more details, please see the [pyplot tutorial](https://matplotlib.org/stable/tutorials/pyplot.html)."
   ]
  },
  {
   "cell_type": "code",
   "execution_count": null,
   "metadata": {
    "editable": true,
    "slideshow": {
     "slide_type": ""
    },
    "tags": []
   },
   "outputs": [],
   "source": [
    "plt.plot(x,\n",
    "         y,\n",
    "         linestyle='-', color=linecolor, linewidth=1,\n",
    "         marker='.', markerfacecolor=markercolor, markeredgecolor=markercolor)\n",
    "\n",
    "plt.title('Exemplary data')\n",
    "plt.xlabel('Displacement / inch')\n",
    "plt.ylabel('Force / kN')\n",
    "plt.show()                 # show graph"
   ]
  },
  {
   "cell_type": "markdown",
   "metadata": {},
   "source": [
    "#### Seaborn"
   ]
  },
  {
   "cell_type": "code",
   "execution_count": null,
   "metadata": {},
   "outputs": [],
   "source": [
    "fig,ax = plt.subplots()\n",
    "fig.suptitle('Exemplary data')\n",
    "sns.lineplot(data=df,\n",
    "             x='Displacement/in',\n",
    "             y='Force/kN',\n",
    "             color=linecolor,\n",
    "             marker='.',\n",
    "             markerfacecolor=markercolor,\n",
    "             markeredgecolor=markercolor,\n",
    "            )\n",
    "plt.show()"
   ]
  },
  {
   "cell_type": "markdown",
   "metadata": {},
   "source": [
    "### Subplots"
   ]
  },
  {
   "cell_type": "markdown",
   "metadata": {},
   "source": [
    "Subplots are a tabular arrangement of individual plots that frequently share one or both axes to offer an easy way to compare multiple aspects of an underlying dataset.\n",
    "\n",
    "We create a 2 by 2 grid of plots in below examples."
   ]
  },
  {
   "cell_type": "markdown",
   "metadata": {},
   "source": [
    "#### Matplotlib"
   ]
  },
  {
   "cell_type": "code",
   "execution_count": null,
   "metadata": {},
   "outputs": [],
   "source": [
    "# The first subplot contains two curves: force versus displacement and a scaled version of these\n",
    "plt.subplot(2, 2, 1)  # (number of rows, number of columns, subplot number)\n",
    "plt.plot(x,\n",
    "         y,\n",
    "         color='blue')\n",
    "plt.plot(0.5 * x,\n",
    "         0.5 * y,\n",
    "         color='green')\n",
    "\n",
    "# The second subplot contains the square root of force versus displacement\n",
    "plt.subplot(2, 2, 2)\n",
    "plt.plot(x,\n",
    "         np.sqrt(y),\n",
    "         color='red')\n",
    "\n",
    "# The third subplot contains force raised to the cube versus displacement\n",
    "plt.subplot(2, 2, 3)\n",
    "plt.plot(x,\n",
    "         np.power(y,3),   # np.power is used to calculate nth power, here raised to the cube\n",
    "         color='orange')\n",
    "\n",
    "# The fourth subplot contains inverse force versus displacement shifted by 10 mm\n",
    "plt.subplot(2, 2, 4)\n",
    "plt.plot(3 + x,\n",
    "         1 / y,\n",
    "         color='gray')\n",
    "\n",
    "plt.subplots_adjust(wspace=0.5, hspace=0.5)\n",
    "plt.show()"
   ]
  },
  {
   "cell_type": "markdown",
   "metadata": {},
   "source": [
    "#### Seaborn"
   ]
  },
  {
   "cell_type": "code",
   "execution_count": null,
   "metadata": {},
   "outputs": [],
   "source": [
    "fig,axes = plt.subplots(2, 2, sharex=True)    # generates a 2 by 2 array of \"axes\" to hold our plots\n",
    "fig.suptitle('2 row x 2 columns axes example')\n",
    "\n",
    "sns.lineplot(ax=axes[0, 0], data=df, x='Displacement/in', y='Force/N', color='blue')  # use keys of the data frame\n",
    "sns.lineplot(ax=axes[0, 0], x=0.5*x, y=0.5*y, color='green')                             # or directly specify the data\n",
    "sns.lineplot(ax=axes[0, 1], x=x, y=np.sqrt(y), color='red')\n",
    "sns.lineplot(ax=axes[1, 0], x=x, y=np.power(y,3), color='orange')\n",
    "sns.lineplot(ax=axes[1, 1], x=3+x, y=1/y, color='gray',)\n",
    "\n",
    "axes[0,1].set_ylabel(r'$\\sqrt{\\mathrm{Force/N}}$')\n",
    "axes[1,0].set_ylabel(r'$\\mathrm{(Force/N)}^3$')\n",
    "axes[1,1].set_ylabel('1/(Force/N)')\n",
    "axes[1,1].set_yscale('log')\n",
    "\n",
    "plt.subplots_adjust(wspace=0.5, hspace=0.2)    # adjust the spacing between plots\n",
    "plt.show()"
   ]
  },
  {
   "cell_type": "markdown",
   "metadata": {},
   "source": [
    "### Probability distributions"
   ]
  },
  {
   "cell_type": "markdown",
   "metadata": {},
   "source": [
    "#### Seaborn"
   ]
  },
  {
   "cell_type": "markdown",
   "metadata": {
    "jp-MarkdownHeadingCollapsed": true
   },
   "source": [
    "Seaborn offers a number of ways to illustrate the statistics of a population of data.\n",
    "Below, the three most commonly used ones are demonstrated.\n",
    "If in doubt, the \"empirical cumulative distribution function\" (ecdf) is generally the most useful one as it does not depend on an (arbitrary) binning choice and, hence, does truly and holistically reflect the entirety of your data."
   ]
  },
  {
   "cell_type": "code",
   "execution_count": null,
   "metadata": {},
   "outputs": [],
   "source": [
    "fig,ax = plt.subplots(figsize=(5,5))\n",
    "sns.ecdfplot(data=df,x='Force/kN',stat='proportion',ax=ax,color='blue')           # data specified by key\n",
    "sns.histplot(data=df,x='Force/kN',stat='proportion',ax=ax,color='orange')\n",
    "sns.rugplot (        x=y,                           ax=ax,color='gray',alpha=0.2) # data specified directly\n",
    "plt.show()"
   ]
  },
  {
   "cell_type": "markdown",
   "metadata": {},
   "source": [
    "#### Matplotlib"
   ]
  },
  {
   "cell_type": "markdown",
   "metadata": {},
   "source": [
    "The command for plotting a histogram is `plt.hist()`.\n",
    "The number of bins can be specified (as below) or left to be automatically chosen."
   ]
  },
  {
   "cell_type": "code",
   "execution_count": null,
   "metadata": {},
   "outputs": [],
   "source": [
    "plt.hist(y, bins=25,\n",
    "         edgecolor='black',\n",
    "         facecolor='orange',\n",
    "        )\n",
    "\n",
    "plt.show()"
   ]
  },
  {
   "cell_type": "markdown",
   "metadata": {},
   "source": [
    "It is possible to have non-equal bins by customizing the bin edges."
   ]
  },
  {
   "cell_type": "code",
   "execution_count": null,
   "metadata": {
    "editable": true,
    "slideshow": {
     "slide_type": ""
    },
    "tags": []
   },
   "outputs": [],
   "source": [
    "edges = [0, 3, 7, 7.5, 9]\n",
    "plt.hist(y, bins=edges,\n",
    "         edgecolor='black',\n",
    "         facecolor='orange',\n",
    "        )\n",
    "\n",
    "plt.show()"
   ]
  },
  {
   "cell_type": "markdown",
   "metadata": {},
   "source": [
    "## Data analysis"
   ]
  },
  {
   "cell_type": "markdown",
   "metadata": {
    "editable": true,
    "slideshow": {
     "slide_type": ""
    },
    "tags": []
   },
   "source": [
    "### Basic statistics"
   ]
  },
  {
   "cell_type": "markdown",
   "metadata": {},
   "source": [
    "A `pandas` \"Series\", i.e. a column of a data frame such as `df['Force/kN']`, offers multiple methods to extract basic statistical information.\n",
    "A few useful ones are: \n",
    "\n",
    "* `Series.max()` to find the maximum\n",
    "* `Series.min()` to find the minimum\n",
    "* `Series.mean()` to calculate the mean (average)\n",
    "* `Series.median()` to calculate the median\n",
    "* `Series.mode()` to calculate the most frequent value(s)\n",
    "* `Series.std()` to calculate the standard deviation "
   ]
  },
  {
   "cell_type": "code",
   "execution_count": null,
   "metadata": {},
   "outputs": [],
   "source": [
    "print(f\"\"\"\n",
    "Maximum displacement: {df['Displacement/mm'].max()} mm\n",
    "Maximum force: {df['Force/kN'].max()} kN\n",
    "Average force: {df['Force/kN'].mean()} kN\n",
    "\"\"\")"
   ]
  },
  {
   "cell_type": "markdown",
   "metadata": {},
   "source": [
    "### Smoothing"
   ]
  },
  {
   "cell_type": "markdown",
   "metadata": {},
   "source": [
    "In cases where the data is too noisy to be useful, it can be helpful to smooth it.\n",
    "\n",
    "Please note that smoothing is different from curve fitting.\n",
    "Curve fitting adjusts the parameters of a given function until it best fits the observed values as closely as possible based on statistical criteria and can be used to extrapolate outside of the data interval.\n",
    "Smoothing, on the other hand, only reduces the weight of outlying points and makes the trends in the data more obvious, with very limmited possibilities for extrapolation.\n",
    "\n",
    "One possibility for smooting a data series that we are demonstrating here is to use the [Savitzky–Golay filter](https://docs.scipy.org/doc/scipy-1.14.0/reference/generated/scipy.signal.savgol_filter.html) from the `scipy.signal` module."
   ]
  },
  {
   "cell_type": "code",
   "execution_count": null,
   "metadata": {},
   "outputs": [],
   "source": [
    "from scipy.signal import savgol_filter\n",
    "\n",
    "df['Smooth Force/kN'] = savgol_filter(x=df['Force/kN'],\n",
    "                                      window_length=101, # larger window results in greater smoothing\n",
    "                                      polyorder=2,\n",
    "                                     )\n",
    "\n",
    "fig,ax = plt.subplots()\n",
    "sns.lineplot(data=df,\n",
    "             x='Displacement/mm',\n",
    "             y='Force/kN',\n",
    "             color='blue',\n",
    "             ax=ax,\n",
    "               )\n",
    "sns.lineplot(data=df,\n",
    "             x='Displacement/mm',\n",
    "             y='Smooth Force/kN',\n",
    "             color='orange',\n",
    "             ax=ax,\n",
    "            )\n",
    "_ = plt.show()"
   ]
  },
  {
   "cell_type": "markdown",
   "metadata": {},
   "source": [
    "### Tangent to a curve"
   ]
  },
  {
   "cell_type": "markdown",
   "metadata": {},
   "source": [
    "To calculate the tangent at a particular point along a curve, its derivative is required.\n",
    "One possibility to calculate this derivative is to first smooth the underlying data with a spline representation and then calculate the derivative of that representation.\n",
    "\n",
    "Such functionality is conveniently provided by the `scipy.interpolate` module.\n",
    "The method `interpolate.splrep` generates a spline representation and `interpolate.splev` can be used to calculate derivatives at specific points of interest."
   ]
  },
  {
   "cell_type": "code",
   "execution_count": null,
   "metadata": {},
   "outputs": [],
   "source": [
    "from scipy import interpolate"
   ]
  },
  {
   "cell_type": "code",
   "execution_count": null,
   "metadata": {},
   "outputs": [],
   "source": [
    "def tangent(points,derivative,d=1):\n",
    "    \"\"\"\n",
    "    Return end points on the local tangent of given points.\n",
    "    \n",
    "    Parameters\n",
    "    ----------\n",
    "    points : float, shape (...,2)\n",
    "        Coordinates of the curve.\n",
    "    derivative : float, shape (...)\n",
    "        Local derivative of the curve.\n",
    "    d : float\n",
    "        Separation between tangent end points (along first coordinate).\n",
    "\n",
    "    Returns\n",
    "    -------\n",
    "    endpoints : coordinates of tangent end points, shape (...,2,2)\n",
    "\n",
    "    \"\"\"\n",
    "    return np.stack((points-0.5*d*np.asarray([1,derivative]),\n",
    "                     points+0.5*d*np.asarray([1,derivative])))\n"
   ]
  },
  {
   "cell_type": "code",
   "execution_count": null,
   "metadata": {},
   "outputs": [],
   "source": [
    "l = df['Displacement/mm'][:100]  # only use the first 100 data points\n",
    "F = df['Force/kN'][:100]\n",
    "\n",
    "F0 = 6.5                         # point of interest for tangent"
   ]
  },
  {
   "cell_type": "code",
   "execution_count": null,
   "metadata": {},
   "outputs": [],
   "source": [
    "tck = interpolate.splrep(x=F,y=l)          # spline representation of l(F)\n",
    "dldF = interpolate.splev(F0,tck,der=1)     # first derivative at F0 based on spline representation\n",
    "l0 = interpolate.splev(F0,tck)             # interpolated displacement at F0, i.e l0 = l(F0)\n",
    "\n",
    "tgt = tangent([F0,l0],dldF,d=2)            # tangent end points at (F0,l0)"
   ]
  },
  {
   "cell_type": "code",
   "execution_count": null,
   "metadata": {},
   "outputs": [],
   "source": [
    "fig,ax = plt.subplots()\n",
    "sns.lineplot(x=l,y=F,ax=ax)\n",
    "sns.lineplot(x=tgt[:,1],\n",
    "             y=tgt[:,0],\n",
    "             linewidth=5,\n",
    "             alpha=0.5,\n",
    "             ax=ax)\n",
    "plt.show()"
   ]
  },
  {
   "cell_type": "markdown",
   "metadata": {},
   "source": [
    "# Formatting equations with $\\LaTeX$"
   ]
  },
  {
   "cell_type": "markdown",
   "metadata": {},
   "source": [
    "Mathematical formulas can be nicely typeset within a notebook using $\\LaTeX$. Its syntax might be off-putting at first, but with some practice it becomes increasingly easier to master.\n",
    "\n",
    "Some examples to illustrate possible use cases:\n",
    "* `$\\sin^2 \\alpha + \\cos^2 \\alpha = 1$`  \n",
    "   $\\sin^2 \\alpha + \\cos^2 \\alpha = 1$\n",
    "* `$\\sqrt{x+y}$`  \n",
    "   $\\sqrt{x+y}$\n",
    "* `$\\sum_{i=1}^{n} i^2$`  \n",
    "   $\\sum_{i=1}^{n} i^2$\n",
    "* `$\\displaystyle \\sum_{i=1}^{n} i^2$`  \n",
    "   $\\displaystyle \\sum_{i=1}^{n} i^2$\n",
    "* `$\\displaystyle \\int_{a}^{b} x^2 \\mathrm{d}x = \\frac{b^3 - a^3}{3}$`  \n",
    "   $\\displaystyle \\int_{a}^{b} x^2 \\mathrm{d}x = \\frac{b^3 - a^3}{3}$\n",
    "\n",
    "A point-and-click online editor that can quickly generate $\\LaTeX$ equations can be found at https://editor.codecogs.com.\n",
    "\n",
    "For more details on how to add math equations in Pages, please check: https://support.apple.com/guide/pages/add-mathematical-equations-tanca5a4fbd9/mac\n",
    "\n",
    "For more details on how to add math equations in Word, please check: https://support.microsoft.com/en-au/office/linear-format-equations-using-unicodemath-and-latex-in-word-2e00618d-b1fd-49d8-8cb4-8d17f25754f8"
   ]
  }
 ],
 "metadata": {
  "kernelspec": {
   "display_name": "Python 3 (ipykernel)",
   "language": "python",
   "name": "python3"
  },
  "language_info": {
   "codemirror_mode": {
    "name": "ipython",
    "version": 3
   },
   "file_extension": ".py",
   "mimetype": "text/x-python",
   "name": "python",
   "nbconvert_exporter": "python",
   "pygments_lexer": "ipython3",
   "version": "3.12.5"
  }
 },
 "nbformat": 4,
 "nbformat_minor": 4
}
